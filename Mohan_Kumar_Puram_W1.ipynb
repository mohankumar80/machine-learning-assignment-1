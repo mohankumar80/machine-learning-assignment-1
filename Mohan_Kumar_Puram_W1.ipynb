{
 "cells": [
  {
   "cell_type": "code",
   "execution_count": 6,
   "metadata": {},
   "outputs": [
    {
     "name": "stdout",
     "output_type": "stream",
     "text": [
      "Sorted List:  [19, 19, 20, 22, 24, 24, 24, 25, 25, 26]\n",
      "Ages list after appending min age and max age again:  [19, 19, 20, 22, 24, 24, 24, 25, 25, 26, 19, 26]\n",
      "Median of the ages:  24.0\n",
      "Average age is:  22.75\n",
      "Range of ages:  7\n"
     ]
    }
   ],
   "source": [
    "# Question - 1\n",
    "\n",
    "# Declaring and assigning the list\n",
    "ages = [19, 22, 19, 24, 20, 25, 26, 24, 25, 24]\n",
    "\n",
    "# Sorting the list\n",
    "ages.sort()\n",
    "# Printing the sorted liste\n",
    "print('Sorted List: ',ages)\n",
    "\n",
    "# Appending min age and max age again at the end of the list\n",
    "ages.append(min(ages))\n",
    "ages.append(max(ages))\n",
    "print('Ages list after appending min age and max age again: ', ages)\n",
    "\n",
    "# Find median age in the list\n",
    "def find_median(data):\n",
    "  data = sorted(data)\n",
    "  index = len(data)\n",
    "  if(index % 2 != 0):\n",
    "    return data[index // 2]\n",
    "  return (data[index // 2] + data[index // 2 - 1]) / 2\n",
    "\n",
    "print('Median of the ages: ', find_median(ages))\n",
    "\n",
    "# Average age\n",
    "print('Average age is: ', sum(ages) / len(ages))\n",
    "\n",
    "# Range of ages: max age - min age\n",
    "print('Range of ages: ', max(ages) - min(ages))"
   ]
  },
  {
   "cell_type": "code",
   "execution_count": 7,
   "metadata": {},
   "outputs": [
    {
     "name": "stdout",
     "output_type": "stream",
     "text": [
      "{'name': 'Lucy', 'color': 'Black', 'breed': 'German Shepherd', 'legs': 4, 'age': 8}\n",
      "Length of Student dictionary is:  9\n",
      "Skills:  ['JavaScript', 'React'] and the data type of Skills is:  <class 'list'>\n",
      "Skills after modifying:  ['JavaScript', 'React', 'MongoDB']\n",
      "student dictionary keys are:  ['first_name', 'last_name', 'gender', 'age', 'martial_status', 'skills', 'country', 'city', 'address']\n",
      "student dictionary values are:  ['Mohan Kumar', 'Puram', 'male', 22, 'single', ['JavaScript', 'React', 'MongoDB'], 'India', 'Hyderabad', '6-28, Srinivas Nagar Colony']\n"
     ]
    }
   ],
   "source": [
    "# Question - 2\n",
    "\n",
    "# Declaring an empty dictionary named dog\n",
    "dog = {}\n",
    "\n",
    "# Adding name, color, breed, legs, age to the dog dictionary\n",
    "dog = { 'name': 'Lucy', 'color': 'Black', 'breed': 'German Shepherd', 'legs': 4, 'age': 8 }\n",
    "print(dog)\n",
    "\n",
    "# Creating a dictionary named student and adding relevant data to it\n",
    "student = { \n",
    "    'first_name': 'Mohan Kumar', 'last_name': 'Puram', \"gender\": 'male', 'age': 22, \n",
    "    'martial_status': 'single', 'skills': ['JavaScript', 'React'], 'country': 'India', 'city': 'Hyderabad', 'address': '6-28, Srinivas Nagar Colony' \n",
    "    }\n",
    "\n",
    "# Length of the student dictionary\n",
    "print('Length of Student dictionary is: ', len(student))\n",
    "\n",
    "# Getting the value of skills key in student dictionary and checkin its data type\n",
    "print('Skills: ', student['skills'], 'and the data type of Skills is: ', type(student['skills']))\n",
    "\n",
    "# Modifying the skills value in student dictionary by adding one/two values\n",
    "student['skills'].append('MongoDB')\n",
    "print('Skills after modifying: ', student['skills'])\n",
    "\n",
    "# Dictionary keys as a list\n",
    "student_dict_keys = list(student.keys())\n",
    "print('student dictionary keys are: ', student_dict_keys)\n",
    "\n",
    "# Dictionary values as a list\n",
    "student_dict_values = list(student.values());\n",
    "print('student dictionary values are: ', student_dict_values)"
   ]
  },
  {
   "cell_type": "code",
   "execution_count": 65,
   "metadata": {},
   "outputs": [
    {
     "name": "stdout",
     "output_type": "stream",
     "text": [
      "Siblings are:  ('Raghupathi', 'Raghava', 'Rajaram', 'gigi', 'bella')\n",
      "Total no. of siblings are:  5\n",
      "Family members are:  ('Raghupathi', 'Raghava', 'Rajaram', 'gigi', 'bella', 'John', 'Rebecca')\n"
     ]
    }
   ],
   "source": [
    "# Question - 3\n",
    "\n",
    "# Creating two tuples named brothers and sisters respectively\n",
    "brothers = ('Raghupathi', 'Raghava', 'Rajaram')\n",
    "sisters = ('gigi', 'bella')\n",
    "\n",
    "# Joining both brothers and sisters tuples and assigning it to siblings tuple\n",
    "siblings =  brothers + sisters\n",
    "print('Siblings are: ', siblings)\n",
    "\n",
    "# Length of the siblings tuple\n",
    "print('Total no. of siblings are: ', len(siblings))\n",
    "\n",
    "# Modifying siblings tuple and assigning it to family_members tuple\n",
    "siblings = siblings + ('John', 'Rebecca')\n",
    "family_members = siblings\n",
    "print('Family members are: ', family_members)"
   ]
  },
  {
   "cell_type": "code",
   "execution_count": 14,
   "metadata": {},
   "outputs": [
    {
     "name": "stdout",
     "output_type": "stream",
     "text": [
      "Length of set it_companies is:  7\n",
      "New it_companies are:  {'Apple', 'Oracle', 'Microsoft', 'Google', 'Twitter', 'Facebook', 'IBM', 'Amazon'}\n",
      "After adding multiple IT companies:  {'TCS', 'Apple', 'Oracle', 'Microsoft', 'Google', 'Twitter', 'Facebook', 'IBM', 'Amazon', 'Flipkart, Infosys'}\n",
      "After removing a value:  {'TCS', 'Apple', 'Oracle', 'Microsoft', 'Google', 'Twitter', 'Facebook', 'Amazon', 'Flipkart, Infosys'}\n",
      "Union of A and B:  {19, 20, 22, 24, 25, 26, 27, 28}\n",
      "Intersection of A and B:  {19, 20, 22, 24, 25, 26}\n",
      "A is a subset of B:  True\n",
      "A and B are disjoint sets:  False\n",
      "Symmetrice difference between A and B:  {27, 28}\n",
      "Deleting set A:  None and set B:  None\n",
      "After converting list to set:  {19, 22, 24, 25, 26}\n",
      "Difference between length of list and set:  3\n"
     ]
    }
   ],
   "source": [
    "# Question - 4\n",
    "\n",
    "# Given data\n",
    "it_companies = {'Facebook', 'Google', 'Microsoft', 'Apple', 'IBM', 'Oracle', 'Amazon'}\n",
    "A = {19, 22, 24, 20, 25, 26}\n",
    "B = {19, 22, 20, 25, 26, 24, 28, 27}\n",
    "age = [22, 19, 24, 25, 26, 24, 25, 24]\n",
    "\n",
    "# Finding the length of the set it_companies\n",
    "print('Length of set it_companies is: ', len(it_companies))\n",
    "\n",
    "# Adding Twitter to it_companies\n",
    "it_companies.add('Twitter')\n",
    "print('New it_companies are: ', it_companies)\n",
    "\n",
    "# Inserting multiple values to the set it_companies all at once\n",
    "it_companies.update(['Flipkart, Infosys', 'TCS'])\n",
    "print('After adding multiple IT companies: ', it_companies)\n",
    "\n",
    "# Removing a value using remove method\n",
    "it_companies.remove('IBM')\n",
    "print('After removing a value: ', it_companies)\n",
    "\n",
    "# Joining sets A and B\n",
    "C = A.union(B)\n",
    "print('Union of A and B: ', C)\n",
    "\n",
    "# Intersecting A and B\n",
    "D = A.intersection(B)\n",
    "print('Intersection of A and B: ', D)\n",
    "\n",
    "# Finding if A is a subset of B\n",
    "print('A is a subset of B: ', A.issubset(B))\n",
    "\n",
    "# Finding if A and B are disjoints or not\n",
    "print('A and B are disjoint sets: ', A.isdisjoint(B))\n",
    "\n",
    "# # Joining A with B and B with A\n",
    "# A.update(B)\n",
    "# print('Joining A with B: ', A)\n",
    "\n",
    "# print('B', B)\n",
    "# B.update(A)\n",
    "# print('Joining B with A: ', B)\n",
    "\n",
    "# Symmetric difference between A and B\n",
    "print('Symmetrice difference between A and B: ', A.symmetric_difference(B))\n",
    "\n",
    "# Deleting sets A and B\n",
    "print('Deleting set A: ', A.clear(),'and set B: ', B.clear())\n",
    "\n",
    "# Converting ages to a set\n",
    "ages_set = set(age)\n",
    "print('After converting list to set: ', ages_set)\n",
    "\n",
    "# Comparing the length of the list and the set\n",
    "print('Difference between length of list and set: ', len(age) - len(ages_set))\n"
   ]
  },
  {
   "cell_type": "code",
   "execution_count": 11,
   "metadata": {},
   "outputs": [
    {
     "name": "stdout",
     "output_type": "stream",
     "text": [
      "Area of Circle with 30m radius is: 2826.0m\n",
      "Circumference of Circle with 30m radius is: 188.4m\n",
      "Given radius: 10\n",
      "Area of Circle is: 314.0\n"
     ]
    }
   ],
   "source": [
    "# Question - 5\n",
    "\n",
    "# Here radius is taken in meters\n",
    "radius_of_circle = 30\n",
    "PI = 3.14\n",
    "\n",
    "# Standard math formula for area of a circle is: pi * radius * radius of circle\n",
    "_area_of_circle_ = PI * (radius_of_circle ** 2)\n",
    "print(f'Area of Circle with {radius_of_circle}m radius is: {_area_of_circle_}m')\n",
    "\n",
    "# Standard math formula for circumference of a circle is: 2 * pi * radius of circle\n",
    "_circum_of_circle_ = 2 * PI * radius_of_circle\n",
    "print(f'Circumference of Circle with {radius_of_circle}m radius is: {_circum_of_circle_}m')\n",
    "\n",
    "# Taking radius from user and calculating the area of the circle\n",
    "user_given_radius = int(input('Enter the radius of circle'))\n",
    "print(f'Given radius: {user_given_radius}')\n",
    "user_circle_area = PI * (user_given_radius ** 2)\n",
    "print(f'Area of Circle is: {user_circle_area}')\n"
   ]
  },
  {
   "cell_type": "code",
   "execution_count": 2,
   "metadata": {},
   "outputs": [
    {
     "name": "stdout",
     "output_type": "stream",
     "text": [
      "unique words:  {'and', 'teacher', 'teach', 'I', 'love', 'inspire', 'am', 'a', 'to', 'people'}\n",
      "Total no. of unique words:  10\n"
     ]
    }
   ],
   "source": [
    "# Question - 6\n",
    "\n",
    "str = 'I am a teacher and I love to inspire and teach people'\n",
    "\n",
    "# Here we are using split method\n",
    "# Split method splits the string into list and the whitespace is the default separator\n",
    "# Then we are converting the list to a set to remove the duplicate values and the result is stored in the variable named unique_words_in_sentence\n",
    "unique_words_in_sentence =  set(str.split())\n",
    "print('unique words: ',unique_words_in_sentence)\n",
    "\n",
    "# Using the length method, we are calculating the total no. of unique words\n",
    "print('Total no. of unique words: ', len(unique_words_in_sentence))"
   ]
  },
  {
   "cell_type": "code",
   "execution_count": 3,
   "metadata": {},
   "outputs": [
    {
     "name": "stdout",
     "output_type": "stream",
     "text": [
      "Name\tAge\tCountry\tCity\n",
      "Mohan\t22\tIndia\tHyderabad\n"
     ]
    }
   ],
   "source": [
    "# Question - 7\n",
    "\n",
    "print('Name\\tAge\\tCountry\\tCity\\nMohan\\t22\\tIndia\\tHyderabad')"
   ]
  },
  {
   "cell_type": "code",
   "execution_count": 4,
   "metadata": {},
   "outputs": [
    {
     "name": "stdout",
     "output_type": "stream",
     "text": [
      "The area of a circle with radius 10 is 314.0 meters square.\n"
     ]
    }
   ],
   "source": [
    "# Question -  8\n",
    "\n",
    "radius = 10\n",
    "\n",
    "area = 3.14 * radius ** 2\n",
    "\n",
    "# Here we are inserting the radius and area using String formatting method\n",
    "print(\"The area of a circle with radius %s is %s meters square.\" %(radius,area)) "
   ]
  },
  {
   "cell_type": "code",
   "execution_count": 18,
   "metadata": {},
   "outputs": [
    {
     "name": "stdout",
     "output_type": "stream",
     "text": [
      "Students weight in lbs:  [150, 300, 450, 600]\n",
      "Students weight in kgs:  [68.025, 136.05, 204.07500000000002, 272.1]\n"
     ]
    }
   ],
   "source": [
    "# Question - 9\n",
    "# Program which converts lbs to kgs for N number of students from user given inputs\n",
    "\n",
    "# Here we are taking multiple inputs from user in lbs and typecasting them into a list\n",
    "students_weight_in_lbs = list(map(int, input(\"Enter students weight: \").split()))\n",
    "\n",
    "students_weight_in_kgs = []\n",
    "\n",
    "# For every student weight in lbs, we are multiplying it with 0.435kg and storing it in another list\n",
    "# Here 1lb = 0.4535kg\n",
    "for i in students_weight_in_lbs:\n",
    "    lbs_to_kgs = i * 0.4535\n",
    "    students_weight_in_kgs.append(lbs_to_kgs)\n",
    "\n",
    "print('Students weight in lbs: ', students_weight_in_lbs)\n",
    "print('Students weight in kgs: ', students_weight_in_kgs)"
   ]
  },
  {
   "cell_type": "code",
   "execution_count": null,
   "metadata": {},
   "outputs": [],
   "source": [
    "# Question - 10\n",
    "\n"
   ]
  }
 ],
 "metadata": {
  "kernelspec": {
   "display_name": "Python 3.8.9 64-bit",
   "language": "python",
   "name": "python3"
  },
  "language_info": {
   "codemirror_mode": {
    "name": "ipython",
    "version": 3
   },
   "file_extension": ".py",
   "mimetype": "text/x-python",
   "name": "python",
   "nbconvert_exporter": "python",
   "pygments_lexer": "ipython3",
   "version": "3.8.9"
  },
  "orig_nbformat": 4,
  "vscode": {
   "interpreter": {
    "hash": "31f2aee4e71d21fbe5cf8b01ff0e069b9275f58929596ceb00d14d90e3e16cd6"
   }
  }
 },
 "nbformat": 4,
 "nbformat_minor": 2
}
